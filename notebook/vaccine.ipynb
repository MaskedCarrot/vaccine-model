{
 "metadata": {
  "language_info": {
   "codemirror_mode": {
    "name": "ipython",
    "version": 3
   },
   "file_extension": ".py",
   "mimetype": "text/x-python",
   "name": "python",
   "nbconvert_exporter": "python",
   "pygments_lexer": "ipython3",
   "version": "3.8.8"
  },
  "orig_nbformat": 2,
  "kernelspec": {
   "name": "python3",
   "display_name": "Python 3.8.8 64-bit ('SE-env': conda)",
   "metadata": {
    "interpreter": {
     "hash": "6d1b6a7f0f579580cc44fb9a022a7fc53bd8e31263a59300898d33d0d1669476"
    }
   }
  }
 },
 "nbformat": 4,
 "nbformat_minor": 2,
 "cells": [
  {
   "cell_type": "code",
   "execution_count": 4,
   "metadata": {},
   "outputs": [],
   "source": [
    "import os"
   ]
  },
  {
   "cell_type": "code",
   "execution_count": 5,
   "metadata": {},
   "outputs": [],
   "source": [
    "# get formated datasets\n",
    "os.chdir('../scripts')\n",
    "%run -i 'fetch_data.py'\n",
    "%run -i 'merge.py'\n",
    "os.chdir('../notebook')"
   ]
  }
 ]
}