{
 "metadata": {
  "language_info": {
   "codemirror_mode": {
    "name": "ipython",
    "version": 3
   },
   "file_extension": ".py",
   "mimetype": "text/x-python",
   "name": "python",
   "nbconvert_exporter": "python",
   "pygments_lexer": "ipython3",
   "version": "3.8.8"
  },
  "orig_nbformat": 2,
  "kernelspec": {
   "name": "python388jvsc74a57bd06d1b6a7f0f579580cc44fb9a022a7fc53bd8e31263a59300898d33d0d1669476",
   "display_name": "Python 3.8.8 64-bit ('SE-env': conda)"
  }
 },
 "nbformat": 4,
 "nbformat_minor": 2,
 "cells": [
  {
   "cell_type": "code",
   "execution_count": 7,
   "metadata": {},
   "outputs": [
    {
     "output_type": "stream",
     "name": "stdout",
     "text": [
      "@twobru Hi, the unroll you asked for: CDC's vaccine advisory committee ACIP met today to advise on J&amp;J…… https://t.co/Jyvb4AqZur\n‘Coronacast’ host Norman Swan has urged older Australians and those with medical conditions to get the AstraZeneca… https://t.co/BSZrtMrjpT\nRT @Kavvasakiman: TWO questions to destroy the Covid Vaccine narrative...\n\n1). If Covid vaccines work, why continued restrictions?\n2). If C…\nRT @TheRealMkA20: Surprise surprise, Bill &amp; Melinda Gates Foundation and CCP money are the main backers of vaccine passports.\nRT @vmp9: Morrison Govt's only factual claim on botched vaccine rollout is attaching the Liberal Party logo to it, at least ensuring no one…\n$SE0005162880 Diamyd Medical contracts global CRO for Phase III trial with the diabetes vaccine Diamyd® #Clinical… https://t.co/0QSw2slSkv\nCases are increasing worldwide, despite vaccine roll out\nTHE VACCINE DOES NOT PREVENT YOU FROM CONTRACTING THE VIRUS!\n\nGet the facts straight!\nBizarre management of news of a death after     covid vaccination:\n\nWon't say what brand so could be Pfizer\n\nSay aw… https://t.co/WEz32DQ3dO\nRT @ashquenneville: Pointing out that birth control pills have a worse blood clot rate than any vaccine isn’t saying “blood clots are fine”…\n"
     ]
    }
   ],
   "source": [
    "api_secret_key = 'h8t7UR1kp9gM3mKUjfbKEkrbs404m8E32dZFaFzFT05nikCyBY'\n",
    "api_key = 'ML0FGGXhhVEuFJBTmUQUAw3Qu'\n",
    "bearer_token = 'AAAAAAAAAAAAAAAAAAAAAA6yLwEAAAAAZLm6jlnzVQhGZ10avjZDKs9uDlg%3DLz8be6Xr4qihErsglUNLArtPt6Vi8Pla8WZMTmZPXoiwB50svZ'\n",
    "access_token = '1238526226861449216-xN9w63xo9EokhtV5Hus2YdUbpi7w06'\n",
    "access_secret_token = 'GCYbD2ImidmnEUgRLeXugi1DBQM4x0lOfiN61HOa1a6n0'\n",
    "\n",
    "import tweepy\n",
    "\n",
    "auth = tweepy.OAuthHandler(api_key ,  api_secret_key)\n",
    "auth.set_access_token(access_token, access_secret_token)\n",
    "api = tweepy.API(auth, wait_on_rate_limit=True)\n",
    "search_words = ['vaccine']\n",
    "date_since = \"2020-11-16\"\n",
    "# Collect tweets\n",
    "tweets = tweepy.Cursor(api.search,q=search_words,lang=\"en\",since=date_since).items(10)\n",
    "\n",
    "for tweet in tweets:\n",
    "    print(tweet.text)"
   ]
  },
  {
   "cell_type": "code",
   "execution_count": null,
   "metadata": {},
   "outputs": [],
   "source": []
  }
 ]
}