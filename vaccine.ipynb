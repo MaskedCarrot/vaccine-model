{
 "metadata": {
  "language_info": {
   "codemirror_mode": {
    "name": "ipython",
    "version": 3
   },
   "file_extension": ".py",
   "mimetype": "text/x-python",
   "name": "python",
   "nbconvert_exporter": "python",
   "pygments_lexer": "ipython3",
   "version": "3.8.5"
  },
  "orig_nbformat": 2,
  "kernelspec": {
   "name": "python3",
   "display_name": "Python 3.8.5  ('env': venv)",
   "metadata": {
    "interpreter": {
     "hash": "461c98b7f0280c8dbc5aff5c2e0293fa81525693ff4948b34a43cbf9fbcd1e86"
    }
   }
  }
 },
 "nbformat": 4,
 "nbformat_minor": 2,
 "cells": [
  {
   "cell_type": "code",
   "execution_count": 1,
   "metadata": {},
   "outputs": [],
   "source": [
    "# import all modules here.\n",
    "import pandas as pd"
   ]
  },
  {
   "cell_type": "code",
   "execution_count": 3,
   "metadata": {},
   "outputs": [],
   "source": [
    "# constants\n",
    "VACCINATION_CSV_URL = \"http://api.covid19india.org/csv/latest/cowin_vaccine_data_statewise.csv\"\n",
    "CASES_CSV_URL = \"https://api.covid19india.org/csv/latest/state_wise_daily.csv\""
   ]
  },
  {
   "cell_type": "code",
   "execution_count": 4,
   "metadata": {},
   "outputs": [],
   "source": [
    "# downloads the csv and convert it into pandas dataframe\n",
    "vaccine_df = pd.read_csv(VACCINATION_CSV_URL)\n",
    "cases_df = pd.read_csv(CASES_CSV_URL)\n"
   ]
  },
  {
   "cell_type": "code",
   "execution_count": 6,
   "metadata": {},
   "outputs": [
    {
     "output_type": "execute_result",
     "data": {
      "text/plain": [
       "   Updated On  State  Total Individuals Registered  Total Sessions Conducted  \\\n",
       "0  16/01/2021  India                     6943622.0                    3455.0   \n",
       "1  17/01/2021  India                     7119567.0                    8532.0   \n",
       "2  18/01/2021  India                     7150780.0                   13611.0   \n",
       "3  19/01/2021  India                     7423057.0                   17855.0   \n",
       "4  20/01/2021  India                     7555207.0                   25472.0   \n",
       "\n",
       "   Total Sites   First Dose Administered  Second Dose Administered  \\\n",
       "0        2957.0                  48276.0                       0.0   \n",
       "1        4954.0                  58604.0                       0.0   \n",
       "2        6583.0                  99449.0                       0.0   \n",
       "3        7951.0                 195525.0                       0.0   \n",
       "4       10504.0                 251280.0                       0.0   \n",
       "\n",
       "   Male(Individuals Vaccinated)  Female(Individuals Vaccinated)  \\\n",
       "0                       23757.0                         24517.0   \n",
       "1                       27348.0                         31252.0   \n",
       "2                       41361.0                         58083.0   \n",
       "3                       81901.0                        113613.0   \n",
       "4                       98111.0                        153145.0   \n",
       "\n",
       "   Transgender(Individuals Vaccinated)  Total Covaxin Administered  \\\n",
       "0                                  2.0                       579.0   \n",
       "1                                  4.0                       635.0   \n",
       "2                                  5.0                      1299.0   \n",
       "3                                 11.0                      3017.0   \n",
       "4                                 24.0                      3946.0   \n",
       "\n",
       "   Total CoviShield Administered  Total Individuals Vaccinated  \\\n",
       "0                        47697.0                       48276.0   \n",
       "1                        57969.0                       58604.0   \n",
       "2                        98150.0                       99449.0   \n",
       "3                       192508.0                      195525.0   \n",
       "4                       247334.0                      251280.0   \n",
       "\n",
       "   Total Doses Administered  \n",
       "0                   48276.0  \n",
       "1                   58604.0  \n",
       "2                   99449.0  \n",
       "3                  195525.0  \n",
       "4                  251280.0  "
      ],
      "text/html": "<div>\n<style scoped>\n    .dataframe tbody tr th:only-of-type {\n        vertical-align: middle;\n    }\n\n    .dataframe tbody tr th {\n        vertical-align: top;\n    }\n\n    .dataframe thead th {\n        text-align: right;\n    }\n</style>\n<table border=\"1\" class=\"dataframe\">\n  <thead>\n    <tr style=\"text-align: right;\">\n      <th></th>\n      <th>Updated On</th>\n      <th>State</th>\n      <th>Total Individuals Registered</th>\n      <th>Total Sessions Conducted</th>\n      <th>Total Sites</th>\n      <th>First Dose Administered</th>\n      <th>Second Dose Administered</th>\n      <th>Male(Individuals Vaccinated)</th>\n      <th>Female(Individuals Vaccinated)</th>\n      <th>Transgender(Individuals Vaccinated)</th>\n      <th>Total Covaxin Administered</th>\n      <th>Total CoviShield Administered</th>\n      <th>Total Individuals Vaccinated</th>\n      <th>Total Doses Administered</th>\n    </tr>\n  </thead>\n  <tbody>\n    <tr>\n      <th>0</th>\n      <td>16/01/2021</td>\n      <td>India</td>\n      <td>6943622.0</td>\n      <td>3455.0</td>\n      <td>2957.0</td>\n      <td>48276.0</td>\n      <td>0.0</td>\n      <td>23757.0</td>\n      <td>24517.0</td>\n      <td>2.0</td>\n      <td>579.0</td>\n      <td>47697.0</td>\n      <td>48276.0</td>\n      <td>48276.0</td>\n    </tr>\n    <tr>\n      <th>1</th>\n      <td>17/01/2021</td>\n      <td>India</td>\n      <td>7119567.0</td>\n      <td>8532.0</td>\n      <td>4954.0</td>\n      <td>58604.0</td>\n      <td>0.0</td>\n      <td>27348.0</td>\n      <td>31252.0</td>\n      <td>4.0</td>\n      <td>635.0</td>\n      <td>57969.0</td>\n      <td>58604.0</td>\n      <td>58604.0</td>\n    </tr>\n    <tr>\n      <th>2</th>\n      <td>18/01/2021</td>\n      <td>India</td>\n      <td>7150780.0</td>\n      <td>13611.0</td>\n      <td>6583.0</td>\n      <td>99449.0</td>\n      <td>0.0</td>\n      <td>41361.0</td>\n      <td>58083.0</td>\n      <td>5.0</td>\n      <td>1299.0</td>\n      <td>98150.0</td>\n      <td>99449.0</td>\n      <td>99449.0</td>\n    </tr>\n    <tr>\n      <th>3</th>\n      <td>19/01/2021</td>\n      <td>India</td>\n      <td>7423057.0</td>\n      <td>17855.0</td>\n      <td>7951.0</td>\n      <td>195525.0</td>\n      <td>0.0</td>\n      <td>81901.0</td>\n      <td>113613.0</td>\n      <td>11.0</td>\n      <td>3017.0</td>\n      <td>192508.0</td>\n      <td>195525.0</td>\n      <td>195525.0</td>\n    </tr>\n    <tr>\n      <th>4</th>\n      <td>20/01/2021</td>\n      <td>India</td>\n      <td>7555207.0</td>\n      <td>25472.0</td>\n      <td>10504.0</td>\n      <td>251280.0</td>\n      <td>0.0</td>\n      <td>98111.0</td>\n      <td>153145.0</td>\n      <td>24.0</td>\n      <td>3946.0</td>\n      <td>247334.0</td>\n      <td>251280.0</td>\n      <td>251280.0</td>\n    </tr>\n  </tbody>\n</table>\n</div>"
     },
     "metadata": {},
     "execution_count": 6
    }
   ],
   "source": [
    "vaccine_df.head()"
   ]
  },
  {
   "cell_type": "code",
   "execution_count": null,
   "metadata": {},
   "outputs": [],
   "source": [
    "cases_df.head()"
   ]
  },
  {
   "cell_type": "code",
   "execution_count": null,
   "metadata": {},
   "outputs": [],
   "source": []
  }
 ]
}